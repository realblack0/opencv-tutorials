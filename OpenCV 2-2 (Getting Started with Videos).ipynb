{
 "cells": [
  {
   "cell_type": "code",
   "execution_count": 1,
   "metadata": {},
   "outputs": [],
   "source": [
    "import cv2 as cv\n",
    "import numpy as np"
   ]
  },
  {
   "cell_type": "markdown",
   "metadata": {},
   "source": [
    "# 비디오 캡처"
   ]
  },
  {
   "cell_type": "code",
   "execution_count": 2,
   "metadata": {},
   "outputs": [
    {
     "data": {
      "text/plain": [
       "<VideoCapture 000002013CFAF6D0>"
      ]
     },
     "execution_count": 2,
     "metadata": {},
     "output_type": "execute_result"
    }
   ],
   "source": [
    "# 비디오 캡처하는 함수\n",
    "# 인자는 카메라의 번호이다.\n",
    "# 노트북 내장 카메라는 보통 0이다. (또는 1)\n",
    "# 카메라가 추가될때마다 다음 번호가 붙는다.\n",
    "\n",
    "cv.VideoCapture(0)"
   ]
  },
  {
   "cell_type": "code",
   "execution_count": 3,
   "metadata": {},
   "outputs": [],
   "source": [
    "# 객체로 저장한다.\n",
    "\n",
    "cap = cv.VideoCapture(0)"
   ]
  },
  {
   "cell_type": "code",
   "execution_count": 4,
   "metadata": {},
   "outputs": [
    {
     "data": {
      "text/plain": [
       "True"
      ]
     },
     "execution_count": 4,
     "metadata": {},
     "output_type": "execute_result"
    }
   ],
   "source": [
    "# isOpened는 제대로 실행되고 있는지 확인하는 메서드.\n",
    "\n",
    "cap.isOpened()"
   ]
  },
  {
   "cell_type": "code",
   "execution_count": 5,
   "metadata": {},
   "outputs": [],
   "source": [
    "# IDLE용 코드\n",
    "\n",
    "if not cap.isOpened():\n",
    "    print(\"카메라를 열 수 없습니다.(Cannot Open Camera.)\")\n",
    "    exit()"
   ]
  },
  {
   "cell_type": "code",
   "execution_count": 6,
   "metadata": {},
   "outputs": [
    {
     "data": {
      "text/plain": [
       "(True, array([[[255, 255, 253],\n",
       "         [255, 255, 253],\n",
       "         [255, 255, 253],\n",
       "         ...,\n",
       "         [106, 101,  97],\n",
       "         [105,  99,  95],\n",
       "         [105,  99,  95]],\n",
       " \n",
       "        [[255, 255, 251],\n",
       "         [255, 255, 251],\n",
       "         [255, 255, 251],\n",
       "         ...,\n",
       "         [106, 101,  97],\n",
       "         [105,  99,  95],\n",
       "         [105,  99,  95]],\n",
       " \n",
       "        [[255, 255, 251],\n",
       "         [255, 255, 251],\n",
       "         [255, 255, 251],\n",
       "         ...,\n",
       "         [106, 101,  97],\n",
       "         [106, 101,  97],\n",
       "         [106, 101,  97]],\n",
       " \n",
       "        ...,\n",
       " \n",
       "        [[ 98,  93,  87],\n",
       "         [101,  95,  89],\n",
       "         [102,  96,  92],\n",
       "         ...,\n",
       "         [106, 101,  97],\n",
       "         [104, 101,  97],\n",
       "         [104, 101,  97]],\n",
       " \n",
       "        [[ 99,  94,  88],\n",
       "         [101,  95,  89],\n",
       "         [102,  96,  92],\n",
       "         ...,\n",
       "         [106, 101,  97],\n",
       "         [106, 101,  97],\n",
       "         [106, 101,  97]],\n",
       " \n",
       "        [[102,  96,  90],\n",
       "         [101,  95,  89],\n",
       "         [101,  95,  91],\n",
       "         ...,\n",
       "         [106, 101,  97],\n",
       "         [106, 101,  97],\n",
       "         [106, 101,  97]]], dtype=uint8))"
      ]
     },
     "execution_count": 6,
     "metadata": {},
     "output_type": "execute_result"
    }
   ],
   "source": [
    "# .read()는 튜플을 반환한다. (상태, 이미지 numpy 포맷)\n",
    "# 캡처한 이미지를 numpy로 보여준다.\n",
    "\n",
    "cap.read()"
   ]
  },
  {
   "cell_type": "code",
   "execution_count": 4,
   "metadata": {},
   "outputs": [],
   "source": [
    "cap.release()"
   ]
  },
  {
   "cell_type": "markdown",
   "metadata": {},
   "source": [
    "# 비디오 캡처 반복문을 통한 live 영상 출력"
   ]
  },
  {
   "cell_type": "code",
   "execution_count": 3,
   "metadata": {},
   "outputs": [],
   "source": [
    "cap = cv.VideoCapture(0)\n",
    "\n",
    "# cap이 제대로 생성 안될 경우를 대비함.\n",
    "if not cap.isOpened():\n",
    "    print(\"카메라를 열 수 없습니다.(Cannot Open Camera.)\")\n",
    "    exit(True) # 쥬피터에서 exit에 keep_kernel=True를 옵션으로 주면 exit하되, 커널이 완전 죽지는 않음.\n",
    "\n",
    "while True:\n",
    "    # 프레임별로 캡처함.\n",
    "    ret, frame = cap.read()\n",
    "    \n",
    "    if not ret: # 캡처 이미지를 잘 읽어오면 ret은 True이다.\n",
    "        print(\"Can't receive frame (stream end?). Exiting ...\")\n",
    "        print(\"프레임을 받아올 수 없습니다...\")\n",
    "        break\n",
    "        \n",
    "    # 이미지처리 작업은 여기에서 일어난다.\n",
    "    # 간단한 예제로써, 흑백으로 전환시켜보자.\n",
    "    gray = cv.cvtColor(frame, cv.COLOR_BGR2GRAY)\n",
    "    \n",
    "    # while문 반복하는 동안에 프레임을 계속 띄운다.\n",
    "    cv.imshow('frame', gray)\n",
    "    # waitKey(1) 은 1 millisecond.\n",
    "    # while문 종료를 위한 q 키 설정.\n",
    "    if cv.waitKey(1) == ord('q'):\n",
    "        break\n",
    "        \n",
    "# 항상 마지막엔 release를 해줘야한다.\n",
    "cap.release()\n",
    "cv.destroyAllWindows()"
   ]
  },
  {
   "cell_type": "code",
   "execution_count": null,
   "metadata": {},
   "outputs": [],
   "source": [
    "# cap.isOpened()가 False일 때, open()하면 됨.\n",
    "\n",
    "cap.open()"
   ]
  },
  {
   "cell_type": "markdown",
   "metadata": {},
   "source": [
    "# cap.get(), cap.set()"
   ]
  },
  {
   "cell_type": "code",
   "execution_count": 11,
   "metadata": {},
   "outputs": [
    {
     "name": "stdout",
     "output_type": "stream",
     "text": [
      "640.0\n"
     ]
    },
    {
     "data": {
      "text/plain": [
       "480.0"
      ]
     },
     "execution_count": 11,
     "metadata": {},
     "output_type": "execute_result"
    }
   ],
   "source": [
    "# cap.get(propId) <- propld는 property(속성)\n",
    "# cap의 세팅값을 알려준다.\n",
    "# cv.CAP_PROP_ 하고 tab하면 사용할 수 있는 속성들 확인할 수 있다.\n",
    "\n",
    "print(cap.get(cv.CAP_PROP_FRAME_WIDTH)) # cap의 가로사이즈\n",
    "cap.get(cv.CAP_PROP_FRAME_HEIGHT) # cap의 세로 사이즈"
   ]
  },
  {
   "cell_type": "code",
   "execution_count": 14,
   "metadata": {},
   "outputs": [],
   "source": [
    "# cap.set으로 세팅 바꾸기.\n",
    "\n",
    "cap = cv.VideoCapture(0)\n",
    "ret = cap.set(cv.CAP_PROP_FRAME_WIDTH, 320)     # cap.set(속성, 값) => 세팅값을 바꿔준다.\n",
    "ret = cap.set(cv.CAP_PROP_FRAME_HEIGHT, 240)    # cap.set(속성, 값) => 세팅값을 바꿔준다.\n",
    "    \n",
    "if not cap.isOpened():\n",
    "    print(\"카메라 연결이 안되었습니다.\")\n",
    "    exit(keep_kernel=True)\n",
    "\n",
    "while True:\n",
    "    ret, frame = cap.read()\n",
    "    \n",
    "    if not ret:\n",
    "        print(\"프레임을 제대로 읽어오지 못했습니다.\")\n",
    "        break\n",
    "    \n",
    "    gray = cv.cvtColor(frame, cv.COLOR_BGR2GRAY)\n",
    "    \n",
    "    cv.imshow('frame', gray)\n",
    "    if cv.waitKey(1) == ord('q'):\n",
    "        break\n",
    "        \n",
    "cap.release()\n",
    "cv.destroyAllWindows()"
   ]
  },
  {
   "cell_type": "markdown",
   "metadata": {},
   "source": [
    "# 동영상 재생"
   ]
  },
  {
   "cell_type": "code",
   "execution_count": 2,
   "metadata": {},
   "outputs": [],
   "source": [
    "# VideoCapture의 인자에 동영상의 경로를 넣어준다.\n",
    "cap = cv.VideoCapture(\"openCV/SampleVideo_640x360_10mb.mkv\")\n",
    "\n",
    "# 한줄로 줄임.\n",
    "while  cap.isOpened():\n",
    "    ret, frame = cap.read()\n",
    "    \n",
    "    if not ret:\n",
    "        print(\"Can't receive frame (stream end?). Exiting ...\")\n",
    "        break\n",
    "    \n",
    "    # 흑백처리하는 기능을 추가해보자.\n",
    "    gray = cv.cvtColor(frame, cv.COLOR_BGR2GRAY)\n",
    "    \n",
    "    cv.imshow(\"frame\", gray)\n",
    "    # cv.waitKey를 얼마로 주느냐에 따라서 재생속도가 달라진다.\n",
    "    # 숫자가 너무 크면 슬로우모션으로 재생되고, 숫자가 너무 작으면 배속처럼 재생된다.\n",
    "    # 대부분 25 정도하면 적당하다.\n",
    "    if cv.waitKey(25) == ord('q'):\n",
    "        break\n",
    "        \n",
    "# 잊지말자.\n",
    "cap.release()\n",
    "cv.destroyAllWindows()"
   ]
  },
  {
   "cell_type": "markdown",
   "metadata": {},
   "source": [
    "# 동영상 저장"
   ]
  },
  {
   "cell_type": "code",
   "execution_count": null,
   "metadata": {},
   "outputs": [],
   "source": [
    "# 동영상 저장은 이미지 저장보다 조금 까다롭다.\n",
    "# 우선 VideoWriter라는 객체가 필요하다.\n",
    "# 인자로 (저장할 경로 및 파일명, fourcc(나중에 다시 설명), fps, frame size, isColor=True(안 쓰면 기본 흑백)) 를 넣는다.\n",
    "\n",
    "# 아직 fourcc를 정의하지 않았으므로 실행 x\n",
    "out = cv.VideoWriter('openCV/test.avi', fourcc, 20.0, (640, 480))"
   ]
  },
  {
   "cell_type": "code",
   "execution_count": 30,
   "metadata": {},
   "outputs": [],
   "source": [
    "# fourcc \n",
    "# fourcc는 4바이트짜리 코드이며, 동영상 코덱과 관련이 있다. \n",
    "# 이용 가능한 코덱 목록은 다음 사이트에서 볼 수 있다. fourcc.org\n",
    "# 사용하는 Platform에 따라서 코덱을 골라야한다.\n",
    "\n",
    "# 추천 코덱\n",
    "# In Fedora: DIVX, XVID, MJPG, X264, WMV1, WMV2. (XVID is more preferable. MJPG results in high size video. X264 gives very small size video)\n",
    "# In Windows: DIVX (More to be tested and added)\n",
    "# In OSX: MJPG (.mp4), DIVX (.avi), X264 (.mkv).\n",
    "\n",
    "# 아래와 같이 2가지 방식으로 설정할 수 있다.\n",
    "fourcc = cv.VideoWriter_fourcc(\"D\",\"I\",\"V\",\"X\")\n",
    "fourcc = cv.VideoWriter_fourcc(*\"DIVX\")"
   ]
  },
  {
   "cell_type": "code",
   "execution_count": 31,
   "metadata": {},
   "outputs": [],
   "source": [
    "out = cv.VideoWriter('openCV/test.avi', fourcc, 20.0, (640, 480))"
   ]
  },
  {
   "cell_type": "code",
   "execution_count": 32,
   "metadata": {},
   "outputs": [],
   "source": [
    "cap = cv.VideoCapture(0)\n",
    "\n",
    "while cap.isOpened():\n",
    "    ret, frame = cap.read()\n",
    "    if not ret:\n",
    "        print(\"Can't receive frame(stream end?). Existing....\")\n",
    "        break\n",
    "    \n",
    "    # flip: 상하 반전\n",
    "    frame = cv.flip(frame, 0)\n",
    "    \n",
    "    # 플립된 프레임을 쓰기.\n",
    "    out.write(frame)\n",
    "    \n",
    "    cv.imshow(\"frame\", frame)\n",
    "    if cv.waitKey(1)  == ord('q'):\n",
    "        break\n",
    "\n",
    "cap.release()\n",
    "out.release()\n",
    "cv.destroyAllWindows()"
   ]
  },
  {
   "cell_type": "code",
   "execution_count": 35,
   "metadata": {},
   "outputs": [
    {
     "name": "stdout",
     "output_type": "stream",
     "text": [
      "Can't receive frame(stream end?). Existing...\n"
     ]
    }
   ],
   "source": [
    "# 저장한 영상 보기\n",
    "\n",
    "cap = cv.VideoCapture(\"openCV/test.avi\")\n",
    "\n",
    "while cap.isOpened():\n",
    "    ret, frame = cap.read()\n",
    "    if not ret:\n",
    "        print(\"Can't receive frame(stream end?). Existing...\")\n",
    "        break\n",
    "    \n",
    "    cv.imshow(\"frame\", frame)\n",
    "    if cv.waitKey(20) == ord('q'):\n",
    "        break\n",
    "    \n",
    "cap.release()\n",
    "cv.destroyAllWindows()"
   ]
  },
  {
   "cell_type": "code",
   "execution_count": null,
   "metadata": {},
   "outputs": [],
   "source": []
  }
 ],
 "metadata": {
  "kernelspec": {
   "display_name": "Python 3",
   "language": "python",
   "name": "python3"
  },
  "language_info": {
   "codemirror_mode": {
    "name": "ipython",
    "version": 3
   },
   "file_extension": ".py",
   "mimetype": "text/x-python",
   "name": "python",
   "nbconvert_exporter": "python",
   "pygments_lexer": "ipython3",
   "version": "3.7.3"
  }
 },
 "nbformat": 4,
 "nbformat_minor": 2
}

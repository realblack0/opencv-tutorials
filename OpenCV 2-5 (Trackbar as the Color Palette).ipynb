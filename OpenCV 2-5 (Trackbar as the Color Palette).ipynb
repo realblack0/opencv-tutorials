{
 "cells": [
  {
   "cell_type": "code",
   "execution_count": 2,
   "metadata": {},
   "outputs": [],
   "source": [
    "import numpy as np\n",
    "import cv2 as cv"
   ]
  },
  {
   "cell_type": "markdown",
   "metadata": {},
   "source": [
    "### cv.createTrackbar 함수의 parameter \n",
    "- 첫번째 인자: trackbar의 이름 \n",
    "- 두번째 인자: trackbar를 붙일 window 창의 이름 \n",
    "- 세번째 인자: 기본값 \n",
    "- 네번째 인자: 최대값 \n",
    "- 다섯번째 인자: trackbar의 값이 바뀔때마다 실행시킬 callback 함수\n",
    "\n",
    "\n",
    "The callback function always has a default argument which is the trackbar position. In our case, function does nothing, so we simply pass."
   ]
  },
  {
   "cell_type": "code",
   "execution_count": 4,
   "metadata": {},
   "outputs": [],
   "source": [
    "# 이번 예제에서는 callback 함수는 아무 역할 하지 않을거기 때문에 pass함.\n",
    "\n",
    "def nothing(x):\n",
    "    pass"
   ]
  },
  {
   "cell_type": "code",
   "execution_count": 27,
   "metadata": {},
   "outputs": [],
   "source": [
    "# 검은색 이미지를 만들고 윈도우 창 띄우기\n",
    "\n",
    "img = np.zeros((300,512,3), np.uint8)\n",
    "cv.namedWindow(\"image\")"
   ]
  },
  {
   "cell_type": "code",
   "execution_count": 28,
   "metadata": {},
   "outputs": [],
   "source": [
    "# 색상 트랙바 만들기\n",
    "\n",
    "cv.createTrackbar(\"R\", \"image\", 0, 255, nothing)\n",
    "cv.createTrackbar(\"G\", \"image\", 0, 255, nothing)\n",
    "cv.createTrackbar(\"B\", \"image\", 0, 255, nothing)"
   ]
  },
  {
   "cell_type": "code",
   "execution_count": 29,
   "metadata": {},
   "outputs": [],
   "source": [
    "# 이름을 객체로 만들고\n",
    "\n",
    "switch = \"0 : OFF\\n1 : ON\""
   ]
  },
  {
   "cell_type": "code",
   "execution_count": 30,
   "metadata": {},
   "outputs": [],
   "source": [
    "# 객체를 이름으로 넣는다.\n",
    "# on / off 이므로 최대값은 1로 준다.\n",
    "\n",
    "cv.createTrackbar(switch, \"image\", 0, 1, nothing)"
   ]
  },
  {
   "cell_type": "code",
   "execution_count": 31,
   "metadata": {},
   "outputs": [],
   "source": [
    "# 트랙바에 따라서 색상이 변하는 윈도우창이 만들어졌다.\n",
    "\n",
    "while 1:\n",
    "    cv.imshow(\"image\", img)\n",
    "    k = cv.waitKey(1)\n",
    "    if k == 27:\n",
    "        break\n",
    "    \n",
    "    r = cv.getTrackbarPos(\"R\", \"image\") # 쓸때는 cv.getTrackbarPos([trackbar이름], [window 창 이름])\n",
    "    g = cv.getTrackbarPos('G', \"image\")\n",
    "    b = cv.getTrackbarPos(\"B\", \"image\")\n",
    "    s = cv.getTrackbarPos(switch, \"image\")\n",
    "    \n",
    "    if s == 0:\n",
    "        img[:] = 0 # broadcasting\n",
    "    else :\n",
    "        img[:] =  [b,g,r] # broadcasting이 적용된다.\n",
    "        \n",
    "cv.destroyAllWindows()"
   ]
  },
  {
   "cell_type": "code",
   "execution_count": null,
   "metadata": {},
   "outputs": [],
   "source": []
  }
 ],
 "metadata": {
  "kernelspec": {
   "display_name": "Python 3",
   "language": "python",
   "name": "python3"
  },
  "language_info": {
   "codemirror_mode": {
    "name": "ipython",
    "version": 3
   },
   "file_extension": ".py",
   "mimetype": "text/x-python",
   "name": "python",
   "nbconvert_exporter": "python",
   "pygments_lexer": "ipython3",
   "version": "3.7.3"
  }
 },
 "nbformat": 4,
 "nbformat_minor": 2
}
